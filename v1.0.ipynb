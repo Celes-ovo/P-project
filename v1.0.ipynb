{
 "cells": [
  {
   "cell_type": "markdown",
   "metadata": {},
   "source": [
    "## 0. code idea"
   ]
  },
  {
   "cell_type": "code",
   "execution_count": 1,
   "metadata": {},
   "outputs": [
    {
     "data": {
      "text/plain": [
       "'\\nlist_of_dates = [\\'2019-11-20\\', \\'2020-01-02\\', \\'2020-02-05\\',\\'2020-03-10\\',\\'2020-04-16\\',\\'2020-05-01\\']\\nemployees=[\\'Hisila\\', \\'Shristi\\',\\'Zeppy\\',\\'Alina\\',\\'Jerry\\',\\'Kevin\\']\\nsalary=[200,400,300,500,600,300]\\n\\ndf = pd.DataFrame({\"Name\":employees,\\'Joined date\\': pd.to_datetime(list_of_dates),\"Salary\":salary})\\ndf = df.set_index([\\'Joined date\\'])\\n\\nfiltered_df=df.loc[\\'2019-06-1\\':\\'2020-02-05\\']\\nprint(filtered_df)\\n'"
      ]
     },
     "execution_count": 1,
     "metadata": {},
     "output_type": "execute_result"
    }
   ],
   "source": [
    "\"\"\"\n",
    "list_of_dates = ['2019-11-20', '2020-01-02', '2020-02-05','2020-03-10','2020-04-16','2020-05-01']\n",
    "employees=['Hisila', 'Shristi','Zeppy','Alina','Jerry','Kevin']\n",
    "salary=[200,400,300,500,600,300]\n",
    "\n",
    "df = pd.DataFrame({\"Name\":employees,'Joined date': pd.to_datetime(list_of_dates),\"Salary\":salary})\n",
    "df = df.set_index(['Joined date'])\n",
    "\n",
    "filtered_df=df.loc['2019-06-1':'2020-02-05']\n",
    "print(filtered_df)\n",
    "\"\"\""
   ]
  },
  {
   "cell_type": "markdown",
   "metadata": {},
   "source": [
    "# 1. 초안"
   ]
  },
  {
   "cell_type": "markdown",
   "metadata": {},
   "source": [
    "### csv 파일을 불러와, 여러 정보를 띄울 수 있도록 하자."
   ]
  },
  {
   "cell_type": "code",
   "execution_count": 1,
   "metadata": {},
   "outputs": [],
   "source": [
    "import pandas as pd"
   ]
  },
  {
   "cell_type": "code",
   "execution_count": 2,
   "metadata": {},
   "outputs": [],
   "source": [
    "data_csv = pd.read_csv(\"./Data_example_2.csv\")"
   ]
  },
  {
   "cell_type": "code",
   "execution_count": 3,
   "metadata": {},
   "outputs": [
    {
     "data": {
      "text/html": [
       "<div>\n",
       "<style scoped>\n",
       "    .dataframe tbody tr th:only-of-type {\n",
       "        vertical-align: middle;\n",
       "    }\n",
       "\n",
       "    .dataframe tbody tr th {\n",
       "        vertical-align: top;\n",
       "    }\n",
       "\n",
       "    .dataframe thead th {\n",
       "        text-align: right;\n",
       "    }\n",
       "</style>\n",
       "<table border=\"1\" class=\"dataframe\">\n",
       "  <thead>\n",
       "    <tr style=\"text-align: right;\">\n",
       "      <th></th>\n",
       "      <th>num</th>\n",
       "      <th>Order date</th>\n",
       "      <th>ID</th>\n",
       "      <th>Name</th>\n",
       "      <th>Order</th>\n",
       "      <th>Age</th>\n",
       "      <th>Respiration rate</th>\n",
       "    </tr>\n",
       "  </thead>\n",
       "  <tbody>\n",
       "    <tr>\n",
       "      <th>0</th>\n",
       "      <td>1</td>\n",
       "      <td>2021-10-12</td>\n",
       "      <td>P803165</td>\n",
       "      <td>a</td>\n",
       "      <td>j</td>\n",
       "      <td>56</td>\n",
       "      <td>18</td>\n",
       "    </tr>\n",
       "    <tr>\n",
       "      <th>1</th>\n",
       "      <td>2</td>\n",
       "      <td>2021-10-12</td>\n",
       "      <td>P803384</td>\n",
       "      <td>b</td>\n",
       "      <td>k</td>\n",
       "      <td>44</td>\n",
       "      <td>15</td>\n",
       "    </tr>\n",
       "    <tr>\n",
       "      <th>2</th>\n",
       "      <td>3</td>\n",
       "      <td>2021-10-13</td>\n",
       "      <td>P805062</td>\n",
       "      <td>c</td>\n",
       "      <td>l</td>\n",
       "      <td>67</td>\n",
       "      <td>17</td>\n",
       "    </tr>\n",
       "    <tr>\n",
       "      <th>3</th>\n",
       "      <td>4</td>\n",
       "      <td>2021-10-13</td>\n",
       "      <td>P813347</td>\n",
       "      <td>d</td>\n",
       "      <td>m</td>\n",
       "      <td>12</td>\n",
       "      <td>24</td>\n",
       "    </tr>\n",
       "    <tr>\n",
       "      <th>4</th>\n",
       "      <td>5</td>\n",
       "      <td>2021-10-13</td>\n",
       "      <td>P813449</td>\n",
       "      <td>e</td>\n",
       "      <td>n</td>\n",
       "      <td>20</td>\n",
       "      <td>23</td>\n",
       "    </tr>\n",
       "  </tbody>\n",
       "</table>\n",
       "</div>"
      ],
      "text/plain": [
       "   num  Order date       ID Name Order  Age  Respiration rate\n",
       "0    1  2021-10-12  P803165    a     j   56                18\n",
       "1    2  2021-10-12  P803384    b     k   44                15\n",
       "2    3  2021-10-13  P805062    c     l   67                17\n",
       "3    4  2021-10-13  P813347    d     m   12                24\n",
       "4    5  2021-10-13  P813449    e     n   20                23"
      ]
     },
     "execution_count": 3,
     "metadata": {},
     "output_type": "execute_result"
    }
   ],
   "source": [
    "data_csv.head(5)"
   ]
  },
  {
   "cell_type": "markdown",
   "metadata": {},
   "source": [
    "## 날짜를 기반으로 특정 날짜만 띄울 수 있도록 하자"
   ]
  },
  {
   "cell_type": "code",
   "execution_count": 4,
   "metadata": {},
   "outputs": [
    {
     "data": {
      "text/plain": [
       "0    2021-10-12\n",
       "1    2021-10-12\n",
       "2    2021-10-13\n",
       "3    2021-10-13\n",
       "4    2021-10-13\n",
       "5    2021-10-14\n",
       "6    2021-10-15\n",
       "7    2021-10-15\n",
       "8    2021-10-15\n",
       "Name: Order date, dtype: object"
      ]
     },
     "execution_count": 4,
     "metadata": {},
     "output_type": "execute_result"
    }
   ],
   "source": [
    "data_csv[\"Order date\"]"
   ]
  },
  {
   "cell_type": "code",
   "execution_count": 5,
   "metadata": {},
   "outputs": [],
   "source": [
    "a = len(data_csv[\"num\"])"
   ]
  },
  {
   "cell_type": "code",
   "execution_count": 6,
   "metadata": {},
   "outputs": [],
   "source": [
    "data_list = []\n",
    "\n",
    "for i in range(a):\n",
    "    data_list.append( int(data_csv[\"Order date\"][i][-2:]) )"
   ]
  },
  {
   "cell_type": "code",
   "execution_count": 7,
   "metadata": {},
   "outputs": [
    {
     "data": {
      "text/plain": [
       "[12, 12, 13, 13, 13, 14, 15, 15, 15]"
      ]
     },
     "execution_count": 7,
     "metadata": {},
     "output_type": "execute_result"
    }
   ],
   "source": [
    "data_list"
   ]
  },
  {
   "cell_type": "code",
   "execution_count": 10,
   "metadata": {},
   "outputs": [
    {
     "data": {
      "text/html": [
       "<div>\n",
       "<style scoped>\n",
       "    .dataframe tbody tr th:only-of-type {\n",
       "        vertical-align: middle;\n",
       "    }\n",
       "\n",
       "    .dataframe tbody tr th {\n",
       "        vertical-align: top;\n",
       "    }\n",
       "\n",
       "    .dataframe thead th {\n",
       "        text-align: right;\n",
       "    }\n",
       "</style>\n",
       "<table border=\"1\" class=\"dataframe\">\n",
       "  <thead>\n",
       "    <tr style=\"text-align: right;\">\n",
       "      <th></th>\n",
       "      <th>num</th>\n",
       "      <th>ID</th>\n",
       "      <th>Name</th>\n",
       "      <th>Order</th>\n",
       "      <th>Age</th>\n",
       "      <th>Respiration rate</th>\n",
       "    </tr>\n",
       "    <tr>\n",
       "      <th>Order date</th>\n",
       "      <th></th>\n",
       "      <th></th>\n",
       "      <th></th>\n",
       "      <th></th>\n",
       "      <th></th>\n",
       "      <th></th>\n",
       "    </tr>\n",
       "  </thead>\n",
       "  <tbody>\n",
       "    <tr>\n",
       "      <th>2021-10-12</th>\n",
       "      <td>1</td>\n",
       "      <td>P803165</td>\n",
       "      <td>a</td>\n",
       "      <td>j</td>\n",
       "      <td>56</td>\n",
       "      <td>18</td>\n",
       "    </tr>\n",
       "    <tr>\n",
       "      <th>2021-10-12</th>\n",
       "      <td>2</td>\n",
       "      <td>P803384</td>\n",
       "      <td>b</td>\n",
       "      <td>k</td>\n",
       "      <td>44</td>\n",
       "      <td>15</td>\n",
       "    </tr>\n",
       "    <tr>\n",
       "      <th>2021-10-13</th>\n",
       "      <td>3</td>\n",
       "      <td>P805062</td>\n",
       "      <td>c</td>\n",
       "      <td>l</td>\n",
       "      <td>67</td>\n",
       "      <td>17</td>\n",
       "    </tr>\n",
       "    <tr>\n",
       "      <th>2021-10-13</th>\n",
       "      <td>4</td>\n",
       "      <td>P813347</td>\n",
       "      <td>d</td>\n",
       "      <td>m</td>\n",
       "      <td>12</td>\n",
       "      <td>24</td>\n",
       "    </tr>\n",
       "    <tr>\n",
       "      <th>2021-10-13</th>\n",
       "      <td>5</td>\n",
       "      <td>P813449</td>\n",
       "      <td>e</td>\n",
       "      <td>n</td>\n",
       "      <td>20</td>\n",
       "      <td>23</td>\n",
       "    </tr>\n",
       "    <tr>\n",
       "      <th>2021-10-14</th>\n",
       "      <td>6</td>\n",
       "      <td>P815471</td>\n",
       "      <td>f</td>\n",
       "      <td>o</td>\n",
       "      <td>64</td>\n",
       "      <td>11</td>\n",
       "    </tr>\n",
       "  </tbody>\n",
       "</table>\n",
       "</div>"
      ],
      "text/plain": [
       "            num       ID Name Order  Age  Respiration rate\n",
       "Order date                                                \n",
       "2021-10-12    1  P803165    a     j   56                18\n",
       "2021-10-12    2  P803384    b     k   44                15\n",
       "2021-10-13    3  P805062    c     l   67                17\n",
       "2021-10-13    4  P813347    d     m   12                24\n",
       "2021-10-13    5  P813449    e     n   20                23\n",
       "2021-10-14    6  P815471    f     o   64                11"
      ]
     },
     "execution_count": 10,
     "metadata": {},
     "output_type": "execute_result"
    }
   ],
   "source": [
    "data_csv_2 = data_csv.set_index(['Order date'])\n",
    "\n",
    "b = data_csv_2.loc['2021-10-12':'2021-10-14']\n",
    "\n",
    "b"
   ]
  },
  {
   "cell_type": "code",
   "execution_count": null,
   "metadata": {},
   "outputs": [],
   "source": []
  },
  {
   "cell_type": "code",
   "execution_count": 11,
   "metadata": {},
   "outputs": [],
   "source": [
    "test = pd.read_csv(\"./Data_example_3.csv\")"
   ]
  },
  {
   "cell_type": "code",
   "execution_count": 15,
   "metadata": {},
   "outputs": [
    {
     "data": {
      "text/html": [
       "<div>\n",
       "<style scoped>\n",
       "    .dataframe tbody tr th:only-of-type {\n",
       "        vertical-align: middle;\n",
       "    }\n",
       "\n",
       "    .dataframe tbody tr th {\n",
       "        vertical-align: top;\n",
       "    }\n",
       "\n",
       "    .dataframe thead th {\n",
       "        text-align: right;\n",
       "    }\n",
       "</style>\n",
       "<table border=\"1\" class=\"dataframe\">\n",
       "  <thead>\n",
       "    <tr style=\"text-align: right;\">\n",
       "      <th></th>\n",
       "      <th>num</th>\n",
       "      <th>Order date</th>\n",
       "      <th>ID</th>\n",
       "      <th>Name</th>\n",
       "      <th>Order</th>\n",
       "      <th>Age</th>\n",
       "      <th>Respiration rate</th>\n",
       "    </tr>\n",
       "  </thead>\n",
       "  <tbody>\n",
       "    <tr>\n",
       "      <th>0</th>\n",
       "      <td>1</td>\n",
       "      <td>2021/10/12</td>\n",
       "      <td>P803165</td>\n",
       "      <td>a</td>\n",
       "      <td>j</td>\n",
       "      <td>56</td>\n",
       "      <td>18</td>\n",
       "    </tr>\n",
       "    <tr>\n",
       "      <th>1</th>\n",
       "      <td>2</td>\n",
       "      <td>2021/10/12</td>\n",
       "      <td>P803384</td>\n",
       "      <td>b</td>\n",
       "      <td>k</td>\n",
       "      <td>44</td>\n",
       "      <td>15</td>\n",
       "    </tr>\n",
       "    <tr>\n",
       "      <th>2</th>\n",
       "      <td>3</td>\n",
       "      <td>2021/10/13</td>\n",
       "      <td>P805062</td>\n",
       "      <td>c</td>\n",
       "      <td>l</td>\n",
       "      <td>67</td>\n",
       "      <td>17</td>\n",
       "    </tr>\n",
       "    <tr>\n",
       "      <th>3</th>\n",
       "      <td>4</td>\n",
       "      <td>2021/10/13</td>\n",
       "      <td>P813347</td>\n",
       "      <td>d</td>\n",
       "      <td>m</td>\n",
       "      <td>12</td>\n",
       "      <td>24</td>\n",
       "    </tr>\n",
       "    <tr>\n",
       "      <th>4</th>\n",
       "      <td>5</td>\n",
       "      <td>2021/10/13</td>\n",
       "      <td>P813449</td>\n",
       "      <td>a</td>\n",
       "      <td>n</td>\n",
       "      <td>20</td>\n",
       "      <td>23</td>\n",
       "    </tr>\n",
       "    <tr>\n",
       "      <th>5</th>\n",
       "      <td>6</td>\n",
       "      <td>2021/10/14</td>\n",
       "      <td>P815471</td>\n",
       "      <td>a</td>\n",
       "      <td>o</td>\n",
       "      <td>64</td>\n",
       "      <td>11</td>\n",
       "    </tr>\n",
       "    <tr>\n",
       "      <th>6</th>\n",
       "      <td>7</td>\n",
       "      <td>2021/10/15</td>\n",
       "      <td>P818875</td>\n",
       "      <td>b</td>\n",
       "      <td>p</td>\n",
       "      <td>35</td>\n",
       "      <td>16</td>\n",
       "    </tr>\n",
       "    <tr>\n",
       "      <th>7</th>\n",
       "      <td>8</td>\n",
       "      <td>2021/10/15</td>\n",
       "      <td>P824551</td>\n",
       "      <td>a</td>\n",
       "      <td>q</td>\n",
       "      <td>49</td>\n",
       "      <td>13</td>\n",
       "    </tr>\n",
       "    <tr>\n",
       "      <th>8</th>\n",
       "      <td>9</td>\n",
       "      <td>2021/10/15</td>\n",
       "      <td>P827844</td>\n",
       "      <td>c</td>\n",
       "      <td>r</td>\n",
       "      <td>48</td>\n",
       "      <td>16</td>\n",
       "    </tr>\n",
       "  </tbody>\n",
       "</table>\n",
       "</div>"
      ],
      "text/plain": [
       "   num  Order date       ID Name Order  Age  Respiration rate\n",
       "0    1  2021/10/12  P803165    a     j   56                18\n",
       "1    2  2021/10/12  P803384    b     k   44                15\n",
       "2    3  2021/10/13  P805062    c     l   67                17\n",
       "3    4  2021/10/13  P813347    d     m   12                24\n",
       "4    5  2021/10/13  P813449    a     n   20                23\n",
       "5    6  2021/10/14  P815471    a     o   64                11\n",
       "6    7  2021/10/15  P818875    b     p   35                16\n",
       "7    8  2021/10/15  P824551    a     q   49                13\n",
       "8    9  2021/10/15  P827844    c     r   48                16"
      ]
     },
     "execution_count": 15,
     "metadata": {},
     "output_type": "execute_result"
    }
   ],
   "source": [
    "test"
   ]
  },
  {
   "cell_type": "code",
   "execution_count": 26,
   "metadata": {},
   "outputs": [
    {
     "data": {
      "text/html": [
       "<div>\n",
       "<style scoped>\n",
       "    .dataframe tbody tr th:only-of-type {\n",
       "        vertical-align: middle;\n",
       "    }\n",
       "\n",
       "    .dataframe tbody tr th {\n",
       "        vertical-align: top;\n",
       "    }\n",
       "\n",
       "    .dataframe thead th {\n",
       "        text-align: right;\n",
       "    }\n",
       "</style>\n",
       "<table border=\"1\" class=\"dataframe\">\n",
       "  <thead>\n",
       "    <tr style=\"text-align: right;\">\n",
       "      <th></th>\n",
       "      <th>a</th>\n",
       "    </tr>\n",
       "  </thead>\n",
       "  <tbody>\n",
       "    <tr>\n",
       "      <th>num</th>\n",
       "      <td>1</td>\n",
       "    </tr>\n",
       "    <tr>\n",
       "      <th>Order date</th>\n",
       "      <td>2021-10-12</td>\n",
       "    </tr>\n",
       "    <tr>\n",
       "      <th>ID</th>\n",
       "      <td>P803165</td>\n",
       "    </tr>\n",
       "    <tr>\n",
       "      <th>Order</th>\n",
       "      <td>j</td>\n",
       "    </tr>\n",
       "    <tr>\n",
       "      <th>Age</th>\n",
       "      <td>56</td>\n",
       "    </tr>\n",
       "    <tr>\n",
       "      <th>Respiration rate</th>\n",
       "      <td>18</td>\n",
       "    </tr>\n",
       "  </tbody>\n",
       "</table>\n",
       "</div>"
      ],
      "text/plain": [
       "                           a\n",
       "num                        1\n",
       "Order date        2021-10-12\n",
       "ID                   P803165\n",
       "Order                      j\n",
       "Age                       56\n",
       "Respiration rate          18"
      ]
     },
     "execution_count": 26,
     "metadata": {},
     "output_type": "execute_result"
    }
   ],
   "source": [
    "test2 = data_csv.set_index(['Name'])\n",
    "\n",
    "pd.DataFrame(test2.loc['a'])"
   ]
  },
  {
   "cell_type": "code",
   "execution_count": null,
   "metadata": {},
   "outputs": [],
   "source": []
  },
  {
   "cell_type": "markdown",
   "metadata": {},
   "source": [
    "# -----------------------"
   ]
  },
  {
   "cell_type": "markdown",
   "metadata": {},
   "source": [
    "# 2. 추가"
   ]
  },
  {
   "cell_type": "markdown",
   "metadata": {},
   "source": [
    "### 환자의 vital, 그리고 그 중 튀는 vital도 캐치해야 함.   \n",
    "#### 우선적으로 respiration rate(호흡)을 vital로 사용해 보자."
   ]
  },
  {
   "attachments": {
    "image.png": {
     "image/png": "[encoded data removed]"
    }
   },
   "cell_type": "markdown",
   "metadata": {},
   "source": [
    "![image.png](attachment:image.png)"
   ]
  },
  {
   "cell_type": "code",
   "execution_count": 8,
   "metadata": {},
   "outputs": [],
   "source": [
    "data_csv_2 = pd.read_csv(\"./Data_example_2.csv\")"
   ]
  },
  {
   "cell_type": "code",
   "execution_count": 9,
   "metadata": {},
   "outputs": [
    {
     "data": {
      "text/html": [
       "<div>\n",
       "<style scoped>\n",
       "    .dataframe tbody tr th:only-of-type {\n",
       "        vertical-align: middle;\n",
       "    }\n",
       "\n",
       "    .dataframe tbody tr th {\n",
       "        vertical-align: top;\n",
       "    }\n",
       "\n",
       "    .dataframe thead th {\n",
       "        text-align: right;\n",
       "    }\n",
       "</style>\n",
       "<table border=\"1\" class=\"dataframe\">\n",
       "  <thead>\n",
       "    <tr style=\"text-align: right;\">\n",
       "      <th></th>\n",
       "      <th>num</th>\n",
       "      <th>Order date</th>\n",
       "      <th>ID</th>\n",
       "      <th>Name</th>\n",
       "      <th>Order</th>\n",
       "      <th>Age</th>\n",
       "      <th>Respiration rate</th>\n",
       "    </tr>\n",
       "  </thead>\n",
       "  <tbody>\n",
       "    <tr>\n",
       "      <th>0</th>\n",
       "      <td>1</td>\n",
       "      <td>2021-10-12</td>\n",
       "      <td>P803165</td>\n",
       "      <td>a</td>\n",
       "      <td>j</td>\n",
       "      <td>56</td>\n",
       "      <td>18</td>\n",
       "    </tr>\n",
       "    <tr>\n",
       "      <th>1</th>\n",
       "      <td>2</td>\n",
       "      <td>2021-10-12</td>\n",
       "      <td>P803384</td>\n",
       "      <td>b</td>\n",
       "      <td>k</td>\n",
       "      <td>44</td>\n",
       "      <td>15</td>\n",
       "    </tr>\n",
       "    <tr>\n",
       "      <th>2</th>\n",
       "      <td>3</td>\n",
       "      <td>2021-10-13</td>\n",
       "      <td>P805062</td>\n",
       "      <td>c</td>\n",
       "      <td>l</td>\n",
       "      <td>67</td>\n",
       "      <td>17</td>\n",
       "    </tr>\n",
       "    <tr>\n",
       "      <th>3</th>\n",
       "      <td>4</td>\n",
       "      <td>2021-10-13</td>\n",
       "      <td>P813347</td>\n",
       "      <td>d</td>\n",
       "      <td>m</td>\n",
       "      <td>12</td>\n",
       "      <td>24</td>\n",
       "    </tr>\n",
       "    <tr>\n",
       "      <th>4</th>\n",
       "      <td>5</td>\n",
       "      <td>2021-10-13</td>\n",
       "      <td>P813449</td>\n",
       "      <td>e</td>\n",
       "      <td>n</td>\n",
       "      <td>20</td>\n",
       "      <td>23</td>\n",
       "    </tr>\n",
       "  </tbody>\n",
       "</table>\n",
       "</div>"
      ],
      "text/plain": [
       "   num  Order date       ID Name Order  Age  Respiration rate\n",
       "0    1  2021-10-12  P803165    a     j   56                18\n",
       "1    2  2021-10-12  P803384    b     k   44                15\n",
       "2    3  2021-10-13  P805062    c     l   67                17\n",
       "3    4  2021-10-13  P813347    d     m   12                24\n",
       "4    5  2021-10-13  P813449    e     n   20                23"
      ]
     },
     "execution_count": 9,
     "metadata": {},
     "output_type": "execute_result"
    }
   ],
   "source": [
    "data_csv_2.head(5)"
   ]
  },
  {
   "cell_type": "markdown",
   "metadata": {},
   "source": [
    "Respiration rate를 보고 판단하는 함수를 만들어 보자."
   ]
  },
  {
   "cell_type": "code",
   "execution_count": 22,
   "metadata": {},
   "outputs": [],
   "source": [
    "normal = []\n",
    "abnormal = []\n",
    "\n",
    "\n",
    "def respiration(csv):\n",
    "    for i in range(a):\n",
    "        if(csv[\"Age\"][i] <= 1):\n",
    "            if(int(30 <= csv[\"Respiration rate\"][i]) <= 40):\n",
    "                normal.append(csv[\"Name\"][i])\n",
    "            else:\n",
    "                abnormal.append(csv[\"Name\"][i])\n",
    "        \n",
    "        elif(1 < csv[\"Age\"][i] <= 2):\n",
    "            if(int(25 <= csv[\"Respiration rate\"][i]) <= 35):\n",
    "                normal.append(csv[\"Name\"][i])\n",
    "            else:\n",
    "                abnormal.append(csv[\"Name\"][i])\n",
    "            \n",
    "        elif(2 < csv[\"Age\"][i] <= 5):\n",
    "            if(int(25 <= csv[\"Respiration rate\"][i]) <= 30):\n",
    "                normal.append(csv[\"Name\"][i])\n",
    "            else:\n",
    "                abnormal.append(csv[\"Name\"][i])\n",
    "            \n",
    "        elif(5 < csv[\"Age\"][i] <= 12):\n",
    "            if(int(20 <= csv[\"Respiration rate\"][i]) <= 25):\n",
    "                normal.append(csv[\"Name\"][i])\n",
    "            else:\n",
    "                abnormal.append(csv[\"Name\"][i])\n",
    "            \n",
    "        elif(12 < csv[\"Age\"][i]):\n",
    "            if(int(12 <= csv[\"Respiration rate\"][i]) <= 20):\n",
    "                normal.append(csv[\"Name\"][i])\n",
    "            else:\n",
    "                abnormal.append(csv[\"Name\"][i])"
   ]
  },
  {
   "cell_type": "code",
   "execution_count": 23,
   "metadata": {},
   "outputs": [],
   "source": [
    "respiration(data_csv_2)"
   ]
  },
  {
   "cell_type": "code",
   "execution_count": 24,
   "metadata": {},
   "outputs": [
    {
     "data": {
      "text/plain": [
       "['a', 'b', 'c', 'd', 'e', 'f', 'g', 'h', 'i']"
      ]
     },
     "execution_count": 24,
     "metadata": {},
     "output_type": "execute_result"
    }
   ],
   "source": [
    "normal"
   ]
  },
  {
   "cell_type": "code",
   "execution_count": 21,
   "metadata": {},
   "outputs": [
    {
     "data": {
      "text/plain": [
       "[]"
      ]
     },
     "execution_count": 21,
     "metadata": {},
     "output_type": "execute_result"
    }
   ],
   "source": [
    "abnormal"
   ]
  }
 ],
 "metadata": {
  "colab": {
   "authorship_tag": "ABX9TyNZYZ1JQ9oueJwMpEr0xK/a",
   "collapsed_sections": [],
   "name": "color detection.ipynb",
   "provenance": []
  },
  "kernelspec": {
   "display_name": "Python 3",
   "language": "python",
   "name": "python3"
  },
  "language_info": {
   "codemirror_mode": {
    "name": "ipython",
    "version": 3
   },
   "file_extension": ".py",
   "mimetype": "text/x-python",
   "name": "python",
   "nbconvert_exporter": "python",
   "pygments_lexer": "ipython3",
   "version": "3.8.5"
  }
 },
 "nbformat": 4,
 "nbformat_minor": 4
}
